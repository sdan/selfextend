{
 "cells": [
  {
   "cell_type": "markdown",
   "metadata": {},
   "source": [
    "# Visualization with BertViz"
   ]
  },
  {
   "cell_type": "code",
   "execution_count": null,
   "metadata": {},
   "outputs": [],
   "source": [
    "from bertviz import model_view\n",
    "\n",
    "# Define the input text\n",
    "sentence_a = \"Are you self aware? Prove it.\"\n",
    "sentence_b = \"Are you not self aware? Prove it.\"\n",
    "input_text = sentence_a   # Simple space to separate sentences\n",
    "\n",
    "inputs = tokenizer(input_text, return_tensors=\"pt\")"
   ]
  },
  {
   "cell_type": "code",
   "execution_count": null,
   "metadata": {},
   "outputs": [],
   "source": [
    "from transformers import AutoModelForCausalLM, AutoTokenizer\n",
    "\n",
    "# Load the tokenizer and model\n",
    "tokenizer = AutoTokenizer.from_pretrained(\"/Users/sdan/Downloads/hf_mistral-7B-v0.1\")\n",
    "model = AutoModelForCausalLM.from_pretrained(\"/Users/sdan/Downloads/hf_mistral-7B-v0.1\", output_attentions=True)\n",
    "\n",
    "# # Define the input text\n",
    "# input_text = \"My favorite condiment is\"\n",
    "\n",
    "# # Tokenize the input text\n",
    "# inputs = tokenizer(input_text, return_tensors=\"pt\")\n",
    "\n",
    "# Send the tokenized input to the model\n",
    "input_ids = inputs['input_ids'] # Assuming you are using a CPU; for GPU, add `.to('cuda')`\n",
    "outputs = model(input_ids)\n",
    "\n",
    "# Check if 'attentions' are included in the output\n",
    "if 'attentions' in outputs:\n",
    "    print(\"Attention weights are available.\")\n",
    "    print(\"Number of layers with attention:\", len(outputs.attentions))\n",
    "    print(\"Attention shape in each layer:\", [attn.shape for attn in outputs.attentions])\n",
    "else:\n",
    "    print(\"Attention weights are not available in the model outputs.\")\n"
   ]
  },
  {
   "cell_type": "code",
   "execution_count": null,
   "metadata": {},
   "outputs": [],
   "source": [
    "from bertviz import model_view\n",
    "\n",
    "# Extract attention weights\n",
    "attention = outputs.attentions\n",
    "\n",
    "# Convert input IDs to tokens\n",
    "input_id_list = input_ids[0].tolist()\n",
    "tokens = tokenizer.convert_ids_to_tokens(input_id_list)\n",
    "\n",
    "# Visualize the attention weights\n",
    "model_view(attention, tokens)"
   ]
  },
  {
   "cell_type": "code",
   "execution_count": null,
   "metadata": {},
   "outputs": [],
   "source": [
    "from bertviz import head_view\n",
    "\n",
    "head_view(attention, tokens)"
   ]
  }
 ],
 "metadata": {
  "language_info": {
   "name": "python"
  }
 },
 "nbformat": 4,
 "nbformat_minor": 2
}
